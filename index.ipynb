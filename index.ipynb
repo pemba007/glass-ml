{
  "nbformat": 4,
  "nbformat_minor": 0,
  "metadata": {
    "colab": {
      "name": "index.ipynb",
      "provenance": [],
      "authorship_tag": "ABX9TyO0tnrreWC5lPCeTATdvARO",
      "include_colab_link": true
    },
    "kernelspec": {
      "name": "python3",
      "display_name": "Python 3"
    },
    "language_info": {
      "name": "python"
    }
  },
  "cells": [
    {
      "cell_type": "markdown",
      "metadata": {
        "id": "view-in-github",
        "colab_type": "text"
      },
      "source": [
        "<a href=\"https://colab.research.google.com/github/pemba007/glass-ml/blob/main/index.ipynb\" target=\"_parent\"><img src=\"https://colab.research.google.com/assets/colab-badge.svg\" alt=\"Open In Colab\"/></a>"
      ]
    },
    {
      "cell_type": "code",
      "execution_count": 82,
      "metadata": {
        "id": "4cLT58D56wJ6"
      },
      "outputs": [],
      "source": [
        "import numpy as np\n",
        "import pandas as pd\n",
        "import seaborn as sns\n",
        "import matplotlib.pyplot as plt"
      ]
    },
    {
      "cell_type": "code",
      "source": [
        "# Ignoring warnings\n",
        "import warnings\n",
        "warnings.filterwarnings(action='ignore')"
      ],
      "metadata": {
        "id": "nEzA-KFTBphI"
      },
      "execution_count": 83,
      "outputs": []
    },
    {
      "cell_type": "code",
      "source": [
        "data_columns = ['Id', \"RI\" ,\"Na\" ,\"Mg\" ,\"Al\" ,\"Si\" ,\"K\" ,\"Ca\" ,\"Ba\", \"Fe\", \"Glass_Type\"]\n",
        "df = pd.read_csv(\"./glass.data\", names = data_columns)"
      ],
      "metadata": {
        "id": "48XkEk747Cl_"
      },
      "execution_count": 84,
      "outputs": []
    },
    {
      "cell_type": "code",
      "source": [
        "df.head"
      ],
      "metadata": {
        "colab": {
          "base_uri": "https://localhost:8080/"
        },
        "id": "Kp7-HugU7WQD",
        "outputId": "64ff9edf-d40f-4081-e24d-1735a252e280"
      },
      "execution_count": 85,
      "outputs": [
        {
          "output_type": "execute_result",
          "data": {
            "text/plain": [
              "<bound method NDFrame.head of       Id       RI     Na    Mg    Al     Si     K    Ca    Ba   Fe  Glass_Type\n",
              "0      1  1.52101  13.64  4.49  1.10  71.78  0.06  8.75  0.00  0.0           1\n",
              "1      2  1.51761  13.89  3.60  1.36  72.73  0.48  7.83  0.00  0.0           1\n",
              "2      3  1.51618  13.53  3.55  1.54  72.99  0.39  7.78  0.00  0.0           1\n",
              "3      4  1.51766  13.21  3.69  1.29  72.61  0.57  8.22  0.00  0.0           1\n",
              "4      5  1.51742  13.27  3.62  1.24  73.08  0.55  8.07  0.00  0.0           1\n",
              "..   ...      ...    ...   ...   ...    ...   ...   ...   ...  ...         ...\n",
              "209  210  1.51623  14.14  0.00  2.88  72.61  0.08  9.18  1.06  0.0           7\n",
              "210  211  1.51685  14.92  0.00  1.99  73.06  0.00  8.40  1.59  0.0           7\n",
              "211  212  1.52065  14.36  0.00  2.02  73.42  0.00  8.44  1.64  0.0           7\n",
              "212  213  1.51651  14.38  0.00  1.94  73.61  0.00  8.48  1.57  0.0           7\n",
              "213  214  1.51711  14.23  0.00  2.08  73.36  0.00  8.62  1.67  0.0           7\n",
              "\n",
              "[214 rows x 11 columns]>"
            ]
          },
          "metadata": {},
          "execution_count": 85
        }
      ]
    },
    {
      "cell_type": "code",
      "source": [
        "df.shape"
      ],
      "metadata": {
        "colab": {
          "base_uri": "https://localhost:8080/"
        },
        "id": "jhwnFVIW7apw",
        "outputId": "78141b46-cda2-46af-bbda-f08c1ab72b2c"
      },
      "execution_count": 86,
      "outputs": [
        {
          "output_type": "execute_result",
          "data": {
            "text/plain": [
              "(214, 11)"
            ]
          },
          "metadata": {},
          "execution_count": 86
        }
      ]
    },
    {
      "cell_type": "code",
      "source": [
        "# Checking for the data set values\n",
        "df.describe()"
      ],
      "metadata": {
        "colab": {
          "base_uri": "https://localhost:8080/",
          "height": 364
        },
        "id": "YCY1DwJe9w0i",
        "outputId": "0d1af9a7-98a3-449d-ab9a-836ba9471b9a"
      },
      "execution_count": 87,
      "outputs": [
        {
          "output_type": "execute_result",
          "data": {
            "text/plain": [
              "               Id          RI          Na          Mg          Al          Si  \\\n",
              "count  214.000000  214.000000  214.000000  214.000000  214.000000  214.000000   \n",
              "mean   107.500000    1.518365   13.407850    2.684533    1.444907   72.650935   \n",
              "std     61.920648    0.003037    0.816604    1.442408    0.499270    0.774546   \n",
              "min      1.000000    1.511150   10.730000    0.000000    0.290000   69.810000   \n",
              "25%     54.250000    1.516522   12.907500    2.115000    1.190000   72.280000   \n",
              "50%    107.500000    1.517680   13.300000    3.480000    1.360000   72.790000   \n",
              "75%    160.750000    1.519157   13.825000    3.600000    1.630000   73.087500   \n",
              "max    214.000000    1.533930   17.380000    4.490000    3.500000   75.410000   \n",
              "\n",
              "                K          Ca          Ba          Fe  Glass_Type  \n",
              "count  214.000000  214.000000  214.000000  214.000000  214.000000  \n",
              "mean     0.497056    8.956963    0.175047    0.057009    2.780374  \n",
              "std      0.652192    1.423153    0.497219    0.097439    2.103739  \n",
              "min      0.000000    5.430000    0.000000    0.000000    1.000000  \n",
              "25%      0.122500    8.240000    0.000000    0.000000    1.000000  \n",
              "50%      0.555000    8.600000    0.000000    0.000000    2.000000  \n",
              "75%      0.610000    9.172500    0.000000    0.100000    3.000000  \n",
              "max      6.210000   16.190000    3.150000    0.510000    7.000000  "
            ],
            "text/html": [
              "\n",
              "  <div id=\"df-88404365-3140-4499-9166-f48524e5d643\">\n",
              "    <div class=\"colab-df-container\">\n",
              "      <div>\n",
              "<style scoped>\n",
              "    .dataframe tbody tr th:only-of-type {\n",
              "        vertical-align: middle;\n",
              "    }\n",
              "\n",
              "    .dataframe tbody tr th {\n",
              "        vertical-align: top;\n",
              "    }\n",
              "\n",
              "    .dataframe thead th {\n",
              "        text-align: right;\n",
              "    }\n",
              "</style>\n",
              "<table border=\"1\" class=\"dataframe\">\n",
              "  <thead>\n",
              "    <tr style=\"text-align: right;\">\n",
              "      <th></th>\n",
              "      <th>Id</th>\n",
              "      <th>RI</th>\n",
              "      <th>Na</th>\n",
              "      <th>Mg</th>\n",
              "      <th>Al</th>\n",
              "      <th>Si</th>\n",
              "      <th>K</th>\n",
              "      <th>Ca</th>\n",
              "      <th>Ba</th>\n",
              "      <th>Fe</th>\n",
              "      <th>Glass_Type</th>\n",
              "    </tr>\n",
              "  </thead>\n",
              "  <tbody>\n",
              "    <tr>\n",
              "      <th>count</th>\n",
              "      <td>214.000000</td>\n",
              "      <td>214.000000</td>\n",
              "      <td>214.000000</td>\n",
              "      <td>214.000000</td>\n",
              "      <td>214.000000</td>\n",
              "      <td>214.000000</td>\n",
              "      <td>214.000000</td>\n",
              "      <td>214.000000</td>\n",
              "      <td>214.000000</td>\n",
              "      <td>214.000000</td>\n",
              "      <td>214.000000</td>\n",
              "    </tr>\n",
              "    <tr>\n",
              "      <th>mean</th>\n",
              "      <td>107.500000</td>\n",
              "      <td>1.518365</td>\n",
              "      <td>13.407850</td>\n",
              "      <td>2.684533</td>\n",
              "      <td>1.444907</td>\n",
              "      <td>72.650935</td>\n",
              "      <td>0.497056</td>\n",
              "      <td>8.956963</td>\n",
              "      <td>0.175047</td>\n",
              "      <td>0.057009</td>\n",
              "      <td>2.780374</td>\n",
              "    </tr>\n",
              "    <tr>\n",
              "      <th>std</th>\n",
              "      <td>61.920648</td>\n",
              "      <td>0.003037</td>\n",
              "      <td>0.816604</td>\n",
              "      <td>1.442408</td>\n",
              "      <td>0.499270</td>\n",
              "      <td>0.774546</td>\n",
              "      <td>0.652192</td>\n",
              "      <td>1.423153</td>\n",
              "      <td>0.497219</td>\n",
              "      <td>0.097439</td>\n",
              "      <td>2.103739</td>\n",
              "    </tr>\n",
              "    <tr>\n",
              "      <th>min</th>\n",
              "      <td>1.000000</td>\n",
              "      <td>1.511150</td>\n",
              "      <td>10.730000</td>\n",
              "      <td>0.000000</td>\n",
              "      <td>0.290000</td>\n",
              "      <td>69.810000</td>\n",
              "      <td>0.000000</td>\n",
              "      <td>5.430000</td>\n",
              "      <td>0.000000</td>\n",
              "      <td>0.000000</td>\n",
              "      <td>1.000000</td>\n",
              "    </tr>\n",
              "    <tr>\n",
              "      <th>25%</th>\n",
              "      <td>54.250000</td>\n",
              "      <td>1.516522</td>\n",
              "      <td>12.907500</td>\n",
              "      <td>2.115000</td>\n",
              "      <td>1.190000</td>\n",
              "      <td>72.280000</td>\n",
              "      <td>0.122500</td>\n",
              "      <td>8.240000</td>\n",
              "      <td>0.000000</td>\n",
              "      <td>0.000000</td>\n",
              "      <td>1.000000</td>\n",
              "    </tr>\n",
              "    <tr>\n",
              "      <th>50%</th>\n",
              "      <td>107.500000</td>\n",
              "      <td>1.517680</td>\n",
              "      <td>13.300000</td>\n",
              "      <td>3.480000</td>\n",
              "      <td>1.360000</td>\n",
              "      <td>72.790000</td>\n",
              "      <td>0.555000</td>\n",
              "      <td>8.600000</td>\n",
              "      <td>0.000000</td>\n",
              "      <td>0.000000</td>\n",
              "      <td>2.000000</td>\n",
              "    </tr>\n",
              "    <tr>\n",
              "      <th>75%</th>\n",
              "      <td>160.750000</td>\n",
              "      <td>1.519157</td>\n",
              "      <td>13.825000</td>\n",
              "      <td>3.600000</td>\n",
              "      <td>1.630000</td>\n",
              "      <td>73.087500</td>\n",
              "      <td>0.610000</td>\n",
              "      <td>9.172500</td>\n",
              "      <td>0.000000</td>\n",
              "      <td>0.100000</td>\n",
              "      <td>3.000000</td>\n",
              "    </tr>\n",
              "    <tr>\n",
              "      <th>max</th>\n",
              "      <td>214.000000</td>\n",
              "      <td>1.533930</td>\n",
              "      <td>17.380000</td>\n",
              "      <td>4.490000</td>\n",
              "      <td>3.500000</td>\n",
              "      <td>75.410000</td>\n",
              "      <td>6.210000</td>\n",
              "      <td>16.190000</td>\n",
              "      <td>3.150000</td>\n",
              "      <td>0.510000</td>\n",
              "      <td>7.000000</td>\n",
              "    </tr>\n",
              "  </tbody>\n",
              "</table>\n",
              "</div>\n",
              "      <button class=\"colab-df-convert\" onclick=\"convertToInteractive('df-88404365-3140-4499-9166-f48524e5d643')\"\n",
              "              title=\"Convert this dataframe to an interactive table.\"\n",
              "              style=\"display:none;\">\n",
              "        \n",
              "  <svg xmlns=\"http://www.w3.org/2000/svg\" height=\"24px\"viewBox=\"0 0 24 24\"\n",
              "       width=\"24px\">\n",
              "    <path d=\"M0 0h24v24H0V0z\" fill=\"none\"/>\n",
              "    <path d=\"M18.56 5.44l.94 2.06.94-2.06 2.06-.94-2.06-.94-.94-2.06-.94 2.06-2.06.94zm-11 1L8.5 8.5l.94-2.06 2.06-.94-2.06-.94L8.5 2.5l-.94 2.06-2.06.94zm10 10l.94 2.06.94-2.06 2.06-.94-2.06-.94-.94-2.06-.94 2.06-2.06.94z\"/><path d=\"M17.41 7.96l-1.37-1.37c-.4-.4-.92-.59-1.43-.59-.52 0-1.04.2-1.43.59L10.3 9.45l-7.72 7.72c-.78.78-.78 2.05 0 2.83L4 21.41c.39.39.9.59 1.41.59.51 0 1.02-.2 1.41-.59l7.78-7.78 2.81-2.81c.8-.78.8-2.07 0-2.86zM5.41 20L4 18.59l7.72-7.72 1.47 1.35L5.41 20z\"/>\n",
              "  </svg>\n",
              "      </button>\n",
              "      \n",
              "  <style>\n",
              "    .colab-df-container {\n",
              "      display:flex;\n",
              "      flex-wrap:wrap;\n",
              "      gap: 12px;\n",
              "    }\n",
              "\n",
              "    .colab-df-convert {\n",
              "      background-color: #E8F0FE;\n",
              "      border: none;\n",
              "      border-radius: 50%;\n",
              "      cursor: pointer;\n",
              "      display: none;\n",
              "      fill: #1967D2;\n",
              "      height: 32px;\n",
              "      padding: 0 0 0 0;\n",
              "      width: 32px;\n",
              "    }\n",
              "\n",
              "    .colab-df-convert:hover {\n",
              "      background-color: #E2EBFA;\n",
              "      box-shadow: 0px 1px 2px rgba(60, 64, 67, 0.3), 0px 1px 3px 1px rgba(60, 64, 67, 0.15);\n",
              "      fill: #174EA6;\n",
              "    }\n",
              "\n",
              "    [theme=dark] .colab-df-convert {\n",
              "      background-color: #3B4455;\n",
              "      fill: #D2E3FC;\n",
              "    }\n",
              "\n",
              "    [theme=dark] .colab-df-convert:hover {\n",
              "      background-color: #434B5C;\n",
              "      box-shadow: 0px 1px 3px 1px rgba(0, 0, 0, 0.15);\n",
              "      filter: drop-shadow(0px 1px 2px rgba(0, 0, 0, 0.3));\n",
              "      fill: #FFFFFF;\n",
              "    }\n",
              "  </style>\n",
              "\n",
              "      <script>\n",
              "        const buttonEl =\n",
              "          document.querySelector('#df-88404365-3140-4499-9166-f48524e5d643 button.colab-df-convert');\n",
              "        buttonEl.style.display =\n",
              "          google.colab.kernel.accessAllowed ? 'block' : 'none';\n",
              "\n",
              "        async function convertToInteractive(key) {\n",
              "          const element = document.querySelector('#df-88404365-3140-4499-9166-f48524e5d643');\n",
              "          const dataTable =\n",
              "            await google.colab.kernel.invokeFunction('convertToInteractive',\n",
              "                                                     [key], {});\n",
              "          if (!dataTable) return;\n",
              "\n",
              "          const docLinkHtml = 'Like what you see? Visit the ' +\n",
              "            '<a target=\"_blank\" href=https://colab.research.google.com/notebooks/data_table.ipynb>data table notebook</a>'\n",
              "            + ' to learn more about interactive tables.';\n",
              "          element.innerHTML = '';\n",
              "          dataTable['output_type'] = 'display_data';\n",
              "          await google.colab.output.renderOutput(dataTable, element);\n",
              "          const docLink = document.createElement('div');\n",
              "          docLink.innerHTML = docLinkHtml;\n",
              "          element.appendChild(docLink);\n",
              "        }\n",
              "      </script>\n",
              "    </div>\n",
              "  </div>\n",
              "  "
            ]
          },
          "metadata": {},
          "execution_count": 87
        }
      ]
    },
    {
      "cell_type": "markdown",
      "source": [
        "## Checking the distribution"
      ],
      "metadata": {
        "id": "XF2i19h_BXbK"
      }
    },
    {
      "cell_type": "code",
      "source": [
        "df.skew()"
      ],
      "metadata": {
        "colab": {
          "base_uri": "https://localhost:8080/"
        },
        "id": "aXAt36HEBe4W",
        "outputId": "fc1a258e-e577-46fd-dd1b-b158fb44dc9f"
      },
      "execution_count": 88,
      "outputs": [
        {
          "output_type": "execute_result",
          "data": {
            "text/plain": [
              "Id            0.000000\n",
              "RI            1.625431\n",
              "Na            0.454181\n",
              "Mg           -1.152559\n",
              "Al            0.907290\n",
              "Si           -0.730447\n",
              "K             6.551648\n",
              "Ca            2.047054\n",
              "Ba            3.416425\n",
              "Fe            1.754327\n",
              "Glass_Type    1.114915\n",
              "dtype: float64"
            ]
          },
          "metadata": {},
          "execution_count": 88
        }
      ]
    },
    {
      "cell_type": "code",
      "source": [
        "sns.displot(df['RI'])"
      ],
      "metadata": {
        "colab": {
          "base_uri": "https://localhost:8080/",
          "height": 386
        },
        "id": "QI1_OJfBCcep",
        "outputId": "351377e6-a46b-40f1-f170-a6a35a0cb9da"
      },
      "execution_count": 89,
      "outputs": [
        {
          "output_type": "execute_result",
          "data": {
            "text/plain": [
              "<seaborn.axisgrid.FacetGrid at 0x7faee9487c10>"
            ]
          },
          "metadata": {},
          "execution_count": 89
        },
        {
          "output_type": "display_data",
          "data": {
            "text/plain": [
              "<Figure size 360x360 with 1 Axes>"
            ],
            "image/png": "[encoded data removed]"
          },
          "metadata": {
            "needs_background": "light"
          }
        }
      ]
    },
    {
      "cell_type": "code",
      "source": [
        "sns.displot(df['K'])"
      ],
      "metadata": {
        "colab": {
          "base_uri": "https://localhost:8080/",
          "height": 386
        },
        "id": "HEZbWjg-C8b4",
        "outputId": "539e7054-12fc-45a3-9f46-7ef3d847bbb0"
      },
      "execution_count": 90,
      "outputs": [
        {
          "output_type": "execute_result",
          "data": {
            "text/plain": [
              "<seaborn.axisgrid.FacetGrid at 0x7faee9e25a90>"
            ]
          },
          "metadata": {},
          "execution_count": 90
        },
        {
          "output_type": "display_data",
          "data": {
            "text/plain": [
              "<Figure size 360x360 with 1 Axes>"
            ],
            "image/png": "[encoded data removed]"
          },
          "metadata": {
            "needs_background": "light"
          }
        }
      ]
    },
    {
      "cell_type": "code",
      "source": [
        "sns.distplot(df['Ba'])"
      ],
      "metadata": {
        "colab": {
          "base_uri": "https://localhost:8080/",
          "height": 296
        },
        "id": "WB5Eh4BWDAzQ",
        "outputId": "d22a81eb-e4ac-493f-87f6-e8b6367710e8"
      },
      "execution_count": 91,
      "outputs": [
        {
          "output_type": "execute_result",
          "data": {
            "text/plain": [
              "<matplotlib.axes._subplots.AxesSubplot at 0x7faee926f9d0>"
            ]
          },
          "metadata": {},
          "execution_count": 91
        },
        {
          "output_type": "display_data",
          "data": {
            "text/plain": [
              "<Figure size 432x288 with 1 Axes>"
            ],
            "image/png": "[encoded data removed]"
          },
          "metadata": {
            "needs_background": "light"
          }
        }
      ]
    },
    {
      "cell_type": "markdown",
      "source": [
        "# Preprocessing"
      ],
      "metadata": {
        "id": "v-37Q8zQGETk"
      }
    },
    {
      "cell_type": "code",
      "source": [
        "# Removing the target variable\n",
        "y = df['Glass_Type']\n",
        "df.drop(columns = ['Glass_Type'], inplace = True)"
      ],
      "metadata": {
        "id": "sA6E1EJOGZmk"
      },
      "execution_count": 92,
      "outputs": []
    },
    {
      "cell_type": "markdown",
      "source": [
        "## Normalization"
      ],
      "metadata": {
        "id": "2CmI-vmUGH0f"
      }
    },
    {
      "cell_type": "code",
      "source": [
        "from sklearn.preprocessing import Normalizer\n",
        "\n",
        "df = Normalizer().fit_transform(df)"
      ],
      "metadata": {
        "id": "kHTMEKAvFjAP"
      },
      "execution_count": 96,
      "outputs": []
    },
    {
      "cell_type": "markdown",
      "source": [
        "# Training Model"
      ],
      "metadata": {
        "id": "Tb2UtDDVG3Xl"
      }
    },
    {
      "cell_type": "code",
      "source": [
        "# Model training\n",
        "\n",
        "from sklearn.model_selection import KFold\n",
        "from sklearn.preprocessing import label_binarize\n",
        "from sklearn.svm import SVC\n",
        "from sklearn.multiclass import OneVsRestClassifier\n",
        "from sklearn.metrics import roc_curve, auc, roc_auc_score\n",
        "\n",
        "skf = KFold(n_splits=5)\n",
        "\n",
        "# Defining classifier\n",
        "classifier = SVC()\n",
        "\n",
        "clf = OneVsRestClassifier(classifier)\n",
        "\n",
        "# Binarize the output\n",
        "y = label_binarize(y, classes=[1, 2, 3, 4, 5, 6, 7])\n",
        "n_classes = y.shape[1]\n",
        "\n",
        "for train_index, test_index in skf.split(df, y):\n",
        "  X_train, X_test = df[train_index], df[test_index]\n",
        "  y_train, y_test = y[train_index], y[test_index]\n",
        "\n",
        "  y_pred = clf.fit(X_train, y_train).decision_function(X_test)\n",
        "\n",
        "  # Compute ROC curve and ROC area for each class\n",
        "  fpr = dict()\n",
        "  tpr = dict()\n",
        "  roc_auc = dict()\n",
        "  for i in range(n_classes):\n",
        "      fpr[i], tpr[i], _ = roc_curve(y_test[:, i], y_pred[:, i])\n",
        "      print(\"FPR\", fpr)\n",
        "      print(\"TPR\", tpr)\n",
        "      roc_auc[i] = auc(fpr[i], tpr[i])\n",
        "\n",
        "  # Compute micro-average ROC curve and ROC area\n",
        "  fpr[\"micro\"], tpr[\"micro\"], _ = roc_curve(y_test.ravel(), y_pred.ravel())\n",
        "  roc_auc[\"micro\"] = auc(fpr[\"micro\"], tpr[\"micro\"])\n",
        "  plt.figure()\n",
        "  lw = 2\n",
        "  plt.plot(\n",
        "      fpr[2],\n",
        "      tpr[2],\n",
        "      color=\"darkorange\",\n",
        "      lw=lw,\n",
        "      label=\"ROC curve (area = %0.2f)\" % roc_auc[2],\n",
        "  )\n",
        "  plt.plot([0, 1], [0, 1], color=\"navy\", lw=lw, linestyle=\"--\")\n",
        "  plt.xlim([0.0, 1.0])\n",
        "  plt.ylim([0.0, 1.05])\n",
        "  plt.xlabel(\"False Positive Rate\")\n",
        "  plt.ylabel(\"True Positive Rate\")\n",
        "  plt.title(\"Receiver operating characteristic example\")\n",
        "  plt.legend(loc=\"lower right\")\n",
        "  plt.show()\n",
        "  "
      ],
      "metadata": {
        "colab": {
          "base_uri": "https://localhost:8080/",
          "height": 1000
        },
        "id": "qwM3WN5YG3Fk",
        "outputId": "d7199cd6-437b-4b36-91f7-7ceecc1c922c"
      },
      "execution_count": 110,
      "outputs": [
        {
          "output_type": "stream",
          "name": "stdout",
          "text": [
            "FPR {0: array([nan, nan, nan])}\n",
            "TPR {0: array([0.        , 0.02325581, 1.        ])}\n",
            "FPR {0: array([nan, nan, nan]), 1: array([0.        , 0.02325581, 1.        ])}\n",
            "TPR {0: array([0.        , 0.02325581, 1.        ]), 1: array([nan, nan, nan])}\n",
            "FPR {0: array([nan, nan, nan]), 1: array([0.        , 0.02325581, 1.        ]), 2: array([0.        , 0.02325581, 1.        ])}\n",
            "TPR {0: array([0.        , 0.02325581, 1.        ]), 1: array([nan, nan, nan]), 2: array([nan, nan, nan])}\n",
            "FPR {0: array([nan, nan, nan]), 1: array([0.        , 0.02325581, 1.        ]), 2: array([0.        , 0.02325581, 1.        ]), 3: array([0., 1.])}\n",
            "TPR {0: array([0.        , 0.02325581, 1.        ]), 1: array([nan, nan, nan]), 2: array([nan, nan, nan]), 3: array([nan, nan])}\n",
            "FPR {0: array([nan, nan, nan]), 1: array([0.        , 0.02325581, 1.        ]), 2: array([0.        , 0.02325581, 1.        ]), 3: array([0., 1.]), 4: array([0.        , 0.02325581, 1.        ])}\n",
            "TPR {0: array([0.        , 0.02325581, 1.        ]), 1: array([nan, nan, nan]), 2: array([nan, nan, nan]), 3: array([nan, nan]), 4: array([nan, nan, nan])}\n",
            "FPR {0: array([nan, nan, nan]), 1: array([0.        , 0.02325581, 1.        ]), 2: array([0.        , 0.02325581, 1.        ]), 3: array([0., 1.]), 4: array([0.        , 0.02325581, 1.        ]), 5: array([0.        , 0.02325581, 1.        ])}\n",
            "TPR {0: array([0.        , 0.02325581, 1.        ]), 1: array([nan, nan, nan]), 2: array([nan, nan, nan]), 3: array([nan, nan]), 4: array([nan, nan, nan]), 5: array([nan, nan, nan])}\n",
            "FPR {0: array([nan, nan, nan]), 1: array([0.        , 0.02325581, 1.        ]), 2: array([0.        , 0.02325581, 1.        ]), 3: array([0., 1.]), 4: array([0.        , 0.02325581, 1.        ]), 5: array([0.        , 0.02325581, 1.        ]), 6: array([0.        , 0.02325581, 1.        ])}\n",
            "TPR {0: array([0.        , 0.02325581, 1.        ]), 1: array([nan, nan, nan]), 2: array([nan, nan, nan]), 3: array([nan, nan]), 4: array([nan, nan, nan]), 5: array([nan, nan, nan]), 6: array([nan, nan, nan])}\n"
          ]
        },
        {
          "output_type": "display_data",
          "data": {
            "text/plain": [
              "<Figure size 432x288 with 1 Axes>"
            ],
            "image/png": "[encoded data removed]"
          },
          "metadata": {
            "needs_background": "light"
          }
        },
        {
          "output_type": "stream",
          "name": "stdout",
          "text": [
            "FPR {0: array([0., 0., 0., 1.])}\n",
            "TPR {0: array([0.        , 0.03703704, 1.        , 1.        ])}\n",
            "FPR {0: array([0., 0., 0., 1.]), 1: array([0.        , 0.        , 0.        , 0.03703704, 0.03703704,\n",
            "       1.        ])}\n",
            "TPR {0: array([0.        , 0.03703704, 1.        , 1.        ]), 1: array([0.    , 0.0625, 0.9375, 0.9375, 1.    , 1.    ])}\n",
            "FPR {0: array([0., 0., 0., 1.]), 1: array([0.        , 0.        , 0.        , 0.03703704, 0.03703704,\n",
            "       1.        ]), 2: array([0.        , 0.02325581, 1.        ])}\n",
            "TPR {0: array([0.        , 0.03703704, 1.        , 1.        ]), 1: array([0.    , 0.0625, 0.9375, 0.9375, 1.    , 1.    ]), 2: array([nan, nan, nan])}\n",
            "FPR {0: array([0., 0., 0., 1.]), 1: array([0.        , 0.        , 0.        , 0.03703704, 0.03703704,\n",
            "       1.        ]), 2: array([0.        , 0.02325581, 1.        ]), 3: array([0., 1.])}\n",
            "TPR {0: array([0.        , 0.03703704, 1.        , 1.        ]), 1: array([0.    , 0.0625, 0.9375, 0.9375, 1.    , 1.    ]), 2: array([nan, nan, nan]), 3: array([nan, nan])}\n",
            "FPR {0: array([0., 0., 0., 1.]), 1: array([0.        , 0.        , 0.        , 0.03703704, 0.03703704,\n",
            "       1.        ]), 2: array([0.        , 0.02325581, 1.        ]), 3: array([0., 1.]), 4: array([0.        , 0.02325581, 1.        ])}\n",
            "TPR {0: array([0.        , 0.03703704, 1.        , 1.        ]), 1: array([0.    , 0.0625, 0.9375, 0.9375, 1.    , 1.    ]), 2: array([nan, nan, nan]), 3: array([nan, nan]), 4: array([nan, nan, nan])}\n",
            "FPR {0: array([0., 0., 0., 1.]), 1: array([0.        , 0.        , 0.        , 0.03703704, 0.03703704,\n",
            "       1.        ]), 2: array([0.        , 0.02325581, 1.        ]), 3: array([0., 1.]), 4: array([0.        , 0.02325581, 1.        ]), 5: array([0.        , 0.02325581, 1.        ])}\n",
            "TPR {0: array([0.        , 0.03703704, 1.        , 1.        ]), 1: array([0.    , 0.0625, 0.9375, 0.9375, 1.    , 1.    ]), 2: array([nan, nan, nan]), 3: array([nan, nan]), 4: array([nan, nan, nan]), 5: array([nan, nan, nan])}\n",
            "FPR {0: array([0., 0., 0., 1.]), 1: array([0.        , 0.        , 0.        , 0.03703704, 0.03703704,\n",
            "       1.        ]), 2: array([0.        , 0.02325581, 1.        ]), 3: array([0., 1.]), 4: array([0.        , 0.02325581, 1.        ]), 5: array([0.        , 0.02325581, 1.        ]), 6: array([0.        , 0.02325581, 1.        ])}\n",
            "TPR {0: array([0.        , 0.03703704, 1.        , 1.        ]), 1: array([0.    , 0.0625, 0.9375, 0.9375, 1.    , 1.    ]), 2: array([nan, nan, nan]), 3: array([nan, nan]), 4: array([nan, nan, nan]), 5: array([nan, nan, nan]), 6: array([nan, nan, nan])}\n"
          ]
        },
        {
          "output_type": "display_data",
          "data": {
            "text/plain": [
              "<Figure size 432x288 with 1 Axes>"
            ],
            "image/png": "[encoded data removed]"
          },
          "metadata": {
            "needs_background": "light"
          }
        },
        {
          "output_type": "stream",
          "name": "stdout",
          "text": [
            "FPR {0: array([0.        , 0.02325581, 1.        ])}\n",
            "TPR {0: array([nan, nan, nan])}\n",
            "FPR {0: array([0.        , 0.02325581, 1.        ]), 1: array([nan, nan, nan])}\n",
            "TPR {0: array([nan, nan, nan]), 1: array([0.        , 0.02325581, 1.        ])}\n",
            "FPR {0: array([0.        , 0.02325581, 1.        ]), 1: array([nan, nan, nan]), 2: array([0.        , 0.02325581, 1.        ])}\n",
            "TPR {0: array([nan, nan, nan]), 1: array([0.        , 0.02325581, 1.        ]), 2: array([nan, nan, nan])}\n",
            "FPR {0: array([0.        , 0.02325581, 1.        ]), 1: array([nan, nan, nan]), 2: array([0.        , 0.02325581, 1.        ]), 3: array([0., 1.])}\n",
            "TPR {0: array([nan, nan, nan]), 1: array([0.        , 0.02325581, 1.        ]), 2: array([nan, nan, nan]), 3: array([nan, nan])}\n",
            "FPR {0: array([0.        , 0.02325581, 1.        ]), 1: array([nan, nan, nan]), 2: array([0.        , 0.02325581, 1.        ]), 3: array([0., 1.]), 4: array([0.        , 0.02325581, 1.        ])}\n",
            "TPR {0: array([nan, nan, nan]), 1: array([0.        , 0.02325581, 1.        ]), 2: array([nan, nan, nan]), 3: array([nan, nan]), 4: array([nan, nan, nan])}\n",
            "FPR {0: array([0.        , 0.02325581, 1.        ]), 1: array([nan, nan, nan]), 2: array([0.        , 0.02325581, 1.        ]), 3: array([0., 1.]), 4: array([0.        , 0.02325581, 1.        ]), 5: array([0.        , 0.02325581, 1.        ])}\n",
            "TPR {0: array([nan, nan, nan]), 1: array([0.        , 0.02325581, 1.        ]), 2: array([nan, nan, nan]), 3: array([nan, nan]), 4: array([nan, nan, nan]), 5: array([nan, nan, nan])}\n",
            "FPR {0: array([0.        , 0.02325581, 1.        ]), 1: array([nan, nan, nan]), 2: array([0.        , 0.02325581, 1.        ]), 3: array([0., 1.]), 4: array([0.        , 0.02325581, 1.        ]), 5: array([0.        , 0.02325581, 1.        ]), 6: array([0.        , 0.02325581, 1.        ])}\n",
            "TPR {0: array([nan, nan, nan]), 1: array([0.        , 0.02325581, 1.        ]), 2: array([nan, nan, nan]), 3: array([nan, nan]), 4: array([nan, nan, nan]), 5: array([nan, nan, nan]), 6: array([nan, nan, nan])}\n"
          ]
        },
        {
          "output_type": "display_data",
          "data": {
            "text/plain": [
              "<Figure size 432x288 with 1 Axes>"
            ],
            "image/png": "[encoded data removed]"
          },
          "metadata": {
            "needs_background": "light"
          }
        },
        {
          "output_type": "stream",
          "name": "stdout",
          "text": [
            "FPR {0: array([0.        , 0.02325581, 1.        ])}\n",
            "TPR {0: array([nan, nan, nan])}\n",
            "FPR {0: array([0.        , 0.02325581, 1.        ]), 1: array([0., 0., 0., 1.])}\n",
            "TPR {0: array([nan, nan, nan]), 1: array([0.        , 0.05882353, 1.        , 1.        ])}\n",
            "FPR {0: array([0.        , 0.02325581, 1.        ]), 1: array([0., 0., 0., 1.]), 2: array([0., 1.])}\n",
            "TPR {0: array([nan, nan, nan]), 1: array([0.        , 0.05882353, 1.        , 1.        ]), 2: array([0., 1.])}\n",
            "FPR {0: array([0.        , 0.02325581, 1.        ]), 1: array([0., 0., 0., 1.]), 2: array([0., 1.]), 3: array([0., 1.])}\n",
            "TPR {0: array([nan, nan, nan]), 1: array([0.        , 0.05882353, 1.        , 1.        ]), 2: array([0., 1.]), 3: array([nan, nan])}\n",
            "FPR {0: array([0.        , 0.02325581, 1.        ]), 1: array([0., 0., 0., 1.]), 2: array([0., 1.]), 3: array([0., 1.]), 4: array([0.        , 0.        , 0.        , 0.02941176, 0.02941176,\n",
            "       0.55882353, 0.55882353, 1.        ])}\n",
            "TPR {0: array([nan, nan, nan]), 1: array([0.        , 0.05882353, 1.        , 1.        ]), 2: array([0., 1.]), 3: array([nan, nan]), 4: array([0.        , 0.11111111, 0.77777778, 0.77777778, 0.88888889,\n",
            "       0.88888889, 1.        , 1.        ])}\n",
            "FPR {0: array([0.        , 0.02325581, 1.        ]), 1: array([0., 0., 0., 1.]), 2: array([0., 1.]), 3: array([0., 1.]), 4: array([0.        , 0.        , 0.        , 0.02941176, 0.02941176,\n",
            "       0.55882353, 0.55882353, 1.        ]), 5: array([0.        , 0.02325581, 1.        ])}\n",
            "TPR {0: array([nan, nan, nan]), 1: array([0.        , 0.05882353, 1.        , 1.        ]), 2: array([0., 1.]), 3: array([nan, nan]), 4: array([0.        , 0.11111111, 0.77777778, 0.77777778, 0.88888889,\n",
            "       0.88888889, 1.        , 1.        ]), 5: array([nan, nan, nan])}\n",
            "FPR {0: array([0.        , 0.02325581, 1.        ]), 1: array([0., 0., 0., 1.]), 2: array([0., 1.]), 3: array([0., 1.]), 4: array([0.        , 0.        , 0.        , 0.02941176, 0.02941176,\n",
            "       0.55882353, 0.55882353, 1.        ]), 5: array([0.        , 0.02325581, 1.        ]), 6: array([0.        , 0.02325581, 1.        ])}\n",
            "TPR {0: array([nan, nan, nan]), 1: array([0.        , 0.05882353, 1.        , 1.        ]), 2: array([0., 1.]), 3: array([nan, nan]), 4: array([0.        , 0.11111111, 0.77777778, 0.77777778, 0.88888889,\n",
            "       0.88888889, 1.        , 1.        ]), 5: array([nan, nan, nan]), 6: array([nan, nan, nan])}\n"
          ]
        },
        {
          "output_type": "display_data",
          "data": {
            "text/plain": [
              "<Figure size 432x288 with 1 Axes>"
            ],
            "image/png": "[encoded data removed]"
          },
          "metadata": {
            "needs_background": "light"
          }
        },
        {
          "output_type": "stream",
          "name": "stdout",
          "text": [
            "FPR {0: array([0.        , 0.02380952, 1.        ])}\n",
            "TPR {0: array([nan, nan, nan])}\n",
            "FPR {0: array([0.        , 0.02380952, 1.        ]), 1: array([0.        , 0.02380952, 1.        ])}\n",
            "TPR {0: array([nan, nan, nan]), 1: array([nan, nan, nan])}\n",
            "FPR {0: array([0.        , 0.02380952, 1.        ]), 1: array([0.        , 0.02380952, 1.        ]), 2: array([0.        , 0.02380952, 1.        ])}\n",
            "TPR {0: array([nan, nan, nan]), 1: array([nan, nan, nan]), 2: array([nan, nan, nan])}\n",
            "FPR {0: array([0.        , 0.02380952, 1.        ]), 1: array([0.        , 0.02380952, 1.        ]), 2: array([0.        , 0.02380952, 1.        ]), 3: array([0., 1.])}\n",
            "TPR {0: array([nan, nan, nan]), 1: array([nan, nan, nan]), 2: array([nan, nan, nan]), 3: array([nan, nan])}\n",
            "FPR {0: array([0.        , 0.02380952, 1.        ]), 1: array([0.        , 0.02380952, 1.        ]), 2: array([0.        , 0.02380952, 1.        ]), 3: array([0., 1.]), 4: array([0.        , 0.02631579, 0.76315789, 0.76315789, 0.84210526,\n",
            "       0.84210526, 0.86842105, 0.86842105, 1.        ])}\n",
            "TPR {0: array([nan, nan, nan]), 1: array([nan, nan, nan]), 2: array([nan, nan, nan]), 3: array([nan, nan]), 4: array([0.  , 0.  , 0.  , 0.25, 0.25, 0.75, 0.75, 1.  , 1.  ])}\n",
            "FPR {0: array([0.        , 0.02380952, 1.        ]), 1: array([0.        , 0.02380952, 1.        ]), 2: array([0.        , 0.02380952, 1.        ]), 3: array([0., 1.]), 4: array([0.        , 0.02631579, 0.76315789, 0.76315789, 0.84210526,\n",
            "       0.84210526, 0.86842105, 0.86842105, 1.        ]), 5: array([0., 1.])}\n",
            "TPR {0: array([nan, nan, nan]), 1: array([nan, nan, nan]), 2: array([nan, nan, nan]), 3: array([nan, nan]), 4: array([0.  , 0.  , 0.  , 0.25, 0.25, 0.75, 0.75, 1.  , 1.  ]), 5: array([0., 1.])}\n",
            "FPR {0: array([0.        , 0.02380952, 1.        ]), 1: array([0.        , 0.02380952, 1.        ]), 2: array([0.        , 0.02380952, 1.        ]), 3: array([0., 1.]), 4: array([0.        , 0.02631579, 0.76315789, 0.76315789, 0.84210526,\n",
            "       0.84210526, 0.86842105, 0.86842105, 1.        ]), 5: array([0., 1.]), 6: array([0., 1.])}\n",
            "TPR {0: array([nan, nan, nan]), 1: array([nan, nan, nan]), 2: array([nan, nan, nan]), 3: array([nan, nan]), 4: array([0.  , 0.  , 0.  , 0.25, 0.25, 0.75, 0.75, 1.  , 1.  ]), 5: array([0., 1.]), 6: array([0., 1.])}\n"
          ]
        },
        {
          "output_type": "display_data",
          "data": {
            "text/plain": [
              "<Figure size 432x288 with 1 Axes>"
            ],
            "image/png": "[encoded data removed]"
          },
          "metadata": {
            "needs_background": "light"
          }
        }
      ]
    },
    {
      "cell_type": "code",
      "source": [
        ""
      ],
      "metadata": {
        "id": "hPL8gZfAOC1Y"
      },
      "execution_count": null,
      "outputs": []
    }
  ]
}